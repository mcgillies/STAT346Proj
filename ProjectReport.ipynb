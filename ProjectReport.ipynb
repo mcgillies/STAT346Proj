{
 "cells": [
  {
   "cell_type": "markdown",
   "id": "78f133c9-bfa0-4d38-9cf0-f47cba4b9589",
   "metadata": {},
   "source": [
    "# NBA Player Points"
   ]
  },
  {
   "cell_type": "markdown",
   "id": "60e8f4b3-6420-495c-b57b-835d9b8bf551",
   "metadata": {},
   "source": [
    "### Group Members:\n",
    "Matthew Gillies - 59188508 (Group Leader),\n",
    "Hans Lam - 80010721\n",
    "...\n",
    "\n",
    "\n",
    "\n",
    "### Group Contributions:\n",
    "Matthew: R code appendix, \n",
    "...\n",
    "\n"
   ]
  },
  {
   "cell_type": "markdown",
   "id": "6ba6a750-35f0-4a2b-83cb-60ea47596643",
   "metadata": {},
   "source": [
    "## Objective: \n",
    "We are looking to analyze NBA points data for players who have both played in the regular season and playoffs in order to determine the average points per game for the regular season and playoffs along with whether the average player performs better in the playoffs. \n",
    "\n",
    "## Background: \n",
    "In the NBA the regular season and playoffs are very different in terms of player usage and rotations. We often see star players \"coast\" through the regular season in order to save energy and maintain health for the playoffs. Some players raise their level of play during the playoffs, while others become overwhelmed with pressure and fail to produce to their usual standards. Our goal is to determine whether the average NBA player performs better in the playoffs than the regular season, along with standalone estimates for both the regular season and playoffs. There are many underlying factors to this analysis, including rotations becoming shorter in the playoffs, allowing star players more opportunities to score and average role players less. The playoffs are also an overall higher level of competition, as only teams who were successful enough in the regular season compete. Through this analysis we hope to further understand the relationship and nuances between regular season and playoff scoring. \n",
    "\n",
    "## Importance: \n",
    "During the last NBA season, the 8-th seeded Miami Heat made the NBA finals. This is only the second time that an 8-th seeded team has made it all the way to the NBA finals, with the first time being all the way back in 1999. Naturally, this created a strong underdog narrative for the Miami Heat during last season's playoffs where many sports commentators were pointing out how much better the Miami Heat players were playing during the playoffs compared to the regular season. In particular, the Miami Heat's star player Jimmy Butler received the moniker of \"Playoff Jimmy\" due to the perceived difference in his level of play in the playoffs when compared to the regular season. This narrative of the Miami Heat players suddenly becoming better during the playoffs made our group wonder if this increase in level of play between the regular season and the playoffs applied to all NBA players in general, leading to the aforementioned objective of this project.\n",
    "\n"
   ]
  },
  {
   "cell_type": "markdown",
   "id": "a2d75774-8a28-45cb-bbce-0aee3b0b8d95",
   "metadata": {},
   "source": [
    "## Sampling: \n",
    "The target population we chose to sample from is the NBA players who played during both the 2022/2023 NBA regular season and the 2022/2023 NBA playoffs. We chose this population due to the following reasons:\n",
    "1. Due to this being the most recent completed NBA season, the data was easily accessible.\n",
    "2. During the last NBA season, the 8-th seeded Miami Heat made it to the NBA finals. As stated previously, the narrative presented by sports media was that everyone on that team was playing better in the playoffs. By including those Miami Heat players in our population, we can see if the data supports that narrative, and if that idea can be generalized to all players as a whole.\n",
    "\n",
    "Our parameters of interest for measuring the difference in performance for NBA players between the regular season and the playoffs are:\n",
    "1. PPG (points per game) per player during the 2022/2023 NBA regular season\n",
    "2. PPG per player during the 2022/2023 NBA playoffs\n",
    "3. Proportion of players who had a higher PPG during the playoffs compared to their PPG during the regular season\n",
    "\n",
    "The two sampling methods we chose to use are simple random sampling and stratified sampling. \n",
    "For our simple random sample, we chose $n = 50$ players at random and recorded their PPG for both the regular season and the playoffs. \n",
    "\n",
    "For our stratified sample, since the cost of sampling is 0 for all players, we decided to set an arbitrary sample size of $n = 50$ (matching the sample size for the SRS). We decided to choose our stratas based on player positions, giving us the $h = 5$ stratas of \"C\" (center), \"PF\" (power forward), \"PG\" (point guard), \"SF\" (small forward), and \"SG\" (shooting guard). The reasons for choosing player position to define our stratas are: \n",
    "1. The between-strata variation for player position should be relatively large. Again harking back to the defined roles for each position, these roles also make the average in points scored between positions fairly different. For example, centers are mainly responsible for rebounds and scoring closer to the basket. Shooting guards on the other hand are mainly responsible for taking many long-range 3-pointer shots. Thus, the average of points scored should be lower for centers when compared to the position of shooting guard, since shooting guards have opportunities to score more when compared to centers. \n",
    "2. The within-strata variation for player position should be relatively minimial. Since each position has defined roles for players, the players of each position should be scoring in similar ways with one another by fulfilling those defined roles. For example, though the quality of center players may vary within the NBA, the way that centers score should remain about the same between centers. This in turn should minimize the difference in points scored within positions since the players of each position should score (and fulfill their roles) in about the same way.\n",
    "To choose the sample sizes for each strata, we took a look at the overall sizes ($N_h$) of each position in our dataset as well as the sample standard deviation for PPG within each position. Using the proportionality of $n_h \\propto N_h * s_{h, guess}$, we determined each strata's sample size by divying up the $n = 50$ proportionally based on each strata's $N_h * s_{h, guess}$, resulting in:\n",
    "1. $n_c = 10$ for the center position \"C\"\n",
    "2. $n_pf = 10$ for the power forward position \"PF\"\n",
    "3. $n_pg = 9$ for the point guard position \"PG\"\n",
    "4. $n_sf = 10$ for the small forward position \"SF\"\n",
    "5. $n_sg = 11$ for the shooting guard position \"SG\" "
   ]
  },
  {
   "cell_type": "markdown",
   "id": "3f3db693-ae60-4e3b-9f4c-f8e54f586bc8",
   "metadata": {},
   "source": [
    "## Data Analysis:\n"
   ]
  },
  {
   "cell_type": "markdown",
   "id": "f3fe73bc-654a-45af-b102-eec849456a40",
   "metadata": {},
   "source": [
    "## Conclusion: \n",
    "...\n"
   ]
  },
  {
   "cell_type": "markdown",
   "id": "519b0c14-11f6-4144-96c7-21795fafc04e",
   "metadata": {},
   "source": [
    "## Appendix"
   ]
  },
  {
   "cell_type": "markdown",
   "id": "b2320b9e-1ee5-40a2-a75e-b7b951fc7f4f",
   "metadata": {},
   "source": [
    "#### R code:"
   ]
  },
  {
   "cell_type": "code",
   "execution_count": null,
   "id": "c61e16e6-c521-4e1f-8309-af60bbeecf88",
   "metadata": {},
   "outputs": [],
   "source": [
    "library(tidyverse)\n",
    "set.seed(123)\n",
    "playoff_data <- read.csv(\"202223nbaplayoffs.csv\", header = T)\n",
    "reg_data <- read.csv(\"202223regseasonnodupes.csv\", header = T)\n",
    "\n",
    "## SRS sampling\n",
    "common_sample_indices <- sample(1:nrow(reg_data), 50)\n",
    "\n",
    "sample_size <- 50\n",
    "population_size <- 200\n",
    "\n",
    "# SRS for Regular season\n",
    "srs_sample_reg <- reg_data[common_sample_indices, ]\n",
    "srs_est_reg <- mean(srs_sample_reg$PTS)\n",
    "fpc <- 1 - sample_size / population_size\n",
    "se_reg <- sqrt(var(srs_sample_reg$PTS)/sample_size * fpc)\n",
    "quantile <- qnorm(0.95)\n",
    "CI_reg <- c(srs_est_reg - quantile*se_reg, srs_est_reg + quantile*se_reg)\n",
    "\n",
    "\n",
    "# SRS for Playoffs\n",
    "srs_sample_playoffs <- playoff_data[common_sample_indices, ]\n",
    "srs_est_playoffs <- mean(srs_sample_playoffs$PTS)\n",
    "se_playoffs <- sqrt(var(srs_sample_playoffs$PTS)/sample_size * fpc)\n",
    "CI_playoffs <- c(srs_est_playoffs - quantile*se_playoffs, srs_est_playoffs +\n",
    "                   quantile*se_playoffs)\n",
    "\n",
    "## Stratified Sampling for regular season:\n",
    "stratum_sizes <- reg_data %>%\n",
    "  group_by(Pos) %>%\n",
    "  summarize(StratumSize = n())\n",
    "\n",
    "within_strata_vars <- reg_data %>%\n",
    "  group_by(Pos) %>%\n",
    "  summarize(SD = sd(PTS))\n",
    "\n",
    "## We see that Within-Strata Variance are varying so we use optimal allocation\n",
    "## Here we assume the cost of sampling from each strata is the same\n",
    "\n",
    "se_strata <- stratum_sizes$StratumSize * within_strata_vars$SD\n",
    "samp_sizes_strat <- round(se_strata/sum(se_strata) * sample_size)\n",
    "\n",
    "samp_sizes_strat[3] = 9\n",
    "\n",
    "## We round the point guard strata size down to ensure the total sample size \n",
    "## is 50, although it should technically round up. \n",
    "\n",
    "\n",
    "final_samples <- data.frame()  # Initialize an empty dataframe to store the final samples\n",
    "\n",
    "for (i in 1:5) {\n",
    "  samp_size <- samp_sizes_strat[i]\n",
    "  current_stratum <- unique(reg_data$Pos)[i]\n",
    "  \n",
    "  stratum_samples <- reg_data %>%\n",
    "    group_by(Pos) %>%\n",
    "    filter(Pos == current_stratum) %>%\n",
    "    sample_n(samp_size)\n",
    "  \n",
    "  final_samples <- rbind(final_samples, stratum_samples)\n",
    "}\n",
    "\n",
    "## Check to make sure sampling is done correctly: \n",
    "check_stratsize <- final_samples %>%\n",
    "  group_by(Pos) %>%\n",
    "  summarize(Size = n())\n",
    "\n",
    "\n",
    "## Estimating Stratified for Regular Season: \n",
    "N <- nrow(reg_data)\n",
    "Nh_data <- reg_data %>% group_by(Pos) %>% summarize(n = n())\n",
    "Nh <- Nh_data$n\n",
    "pos_avg <- final_samples %>% group_by(Pos) %>% summarize(mean = mean(PTS))\n",
    "pos_means <- pos_avg$mean\n",
    "\n",
    "strat_est_reg <- sum((Nh/N)*pos_means)\n",
    "\n",
    "pos_vars_dat <- final_samples %>% group_by(Pos) %>% summarize(Var = var(PTS))\n",
    "pos_vars <- pos_vars_dat$Var\n",
    "\n",
    "se_strat_reg <- sqrt(sum((Nh/N)^2 * (1-(samp_sizes_strat/Nh)) * \n",
    "                           (pos_vars/samp_sizes_strat)))\n",
    "CI_strat_reg <- c(strat_est_reg - quantile*se_strat_reg, \n",
    "                  strat_est_reg + quantile*se_strat_reg)\n",
    "\n",
    "## Getting stratified sample for Playoffs: \n",
    "strat_players <- final_samples$Player\n",
    "playoffs_strat <- playoff_data %>% filter(Player %in% strat_players)\n",
    "\n",
    "## Estimating stratified for playoffs: \n",
    "N <- nrow(playoff_data)\n",
    "pos_avg_p <- playoffs_strat %>% group_by(Pos) %>% summarize(mean = mean(PTS))\n",
    "pos_means_p <- pos_avg_p$mean\n",
    "\n",
    "strat_est_playoff <- sum((Nh/N)*pos_means_p)\n",
    "\n",
    "pos_vars_dat_p <- playoffs_strat %>% group_by(Pos) %>% summarize(Var = var(PTS))\n",
    "pos_vars_p <- pos_vars_dat_p$Var\n",
    "\n",
    "se_strat_p <- sqrt(sum((Nh/N)^2 * (1-(samp_sizes_strat/Nh)) * \n",
    "                           (pos_vars_p/samp_sizes_strat)))\n",
    "CI_strat_reg <- c(strat_est_playoff - quantile*se_strat_p, \n",
    "                  strat_est_playoff + quantile*se_strat_p)\n",
    "\n",
    "## Proportion Estimate for players who score more in playoffs than regular \n",
    "## season:\n",
    "\n",
    "## SRS\n",
    "merged_data <- merge(srs_sample_reg, srs_sample_playoffs, by = \"Player\", \n",
    "                     suffixes = c(\"_reg\", \"_playoff\"))\n",
    "prop_playoff_srs <- mean(merged_data$PTS_playoff > merged_data$PTS_reg)\n",
    "se_prop_srs <- sqrt(fpc*((prop_playoff_srs* (1-prop_playoff_srs))/sample_size))\n",
    "CI_prop_srs <- c(prop_playoff_srs - quantile*se_prop_srs, \n",
    "                 prop_playoff_srs + quantile*se_prop_srs)\n",
    "\n",
    "## Stratified: \n",
    "merged_strat <- merge(final_samples, playoffs_strat, by = \"Player\", \n",
    "                      suffixes = c(\"_reg\", \"_playoff\"))\n",
    "merged_strat$Playoff_Higher <- ifelse(merged_strat$PTS_playoff > \n",
    "                                        merged_strat$PTS_reg, 1, 0)\n",
    "\n",
    "props <- merged_strat %>% group_by(Pos_reg) %>%\n",
    "  summarize(Prop = mean(Playoff_Higher))\n",
    "strat_props <- props$Prop\n",
    "strat_est_prop <- sum((Nh/N)*strat_props)\n",
    "\n",
    "vars_prop_dat <- merged_strat %>% group_by(Pos_reg) %>%\n",
    "  summarize(Var = var(Playoff_Higher))\n",
    "vars_prop <- vars_prop_dat$Var\n",
    "\n",
    "se_prop_strat <- sqrt(sum((Nh/N)^2 * (1-(samp_sizes_strat/Nh)) * \n",
    "                            (vars_prop/samp_sizes_strat)))\n",
    "CI_prop_strat <- c(strat_est_prop - quantile*se_prop_strat, \n",
    "                   strat_est_prop + quantile*se_prop_strat)"
   ]
  },
  {
   "cell_type": "markdown",
   "id": "64922029-aef3-4d32-bc3f-949746e73b20",
   "metadata": {},
   "source": [
    "#### Regular Season Data"
   ]
  },
  {
   "cell_type": "code",
   "execution_count": null,
   "id": "833ebdd5-5c81-4811-b6ce-2c01ca99d9cb",
   "metadata": {},
   "outputs": [],
   "source": [
    "reg_data <- read.csv(\"202223regseasonnodupes.csv\", header = T)\n",
    "reg_data"
   ]
  },
  {
   "cell_type": "markdown",
   "id": "088b79cd-911a-4336-8ac1-190f43bee336",
   "metadata": {},
   "source": [
    "#### Playoff Data"
   ]
  },
  {
   "cell_type": "code",
   "execution_count": null,
   "id": "c91fb953-1ee2-4c56-945e-aebf65cdf83d",
   "metadata": {},
   "outputs": [],
   "source": [
    "playoff_data <- read.csv(\"202223nbaplayoffs.csv\", header = T)\n",
    "playoff_data"
   ]
  }
 ],
 "metadata": {
  "kernelspec": {
   "display_name": "Python 3 (ipykernel)",
   "language": "python",
   "name": "python3"
  },
  "language_info": {
   "codemirror_mode": {
    "name": "ipython",
    "version": 3
   },
   "file_extension": ".py",
   "mimetype": "text/x-python",
   "name": "python",
   "nbconvert_exporter": "python",
   "pygments_lexer": "ipython3",
   "version": "3.11.3"
  }
 },
 "nbformat": 4,
 "nbformat_minor": 5
}
