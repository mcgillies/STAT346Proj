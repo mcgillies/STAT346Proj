{
 "cells": [
  {
   "cell_type": "markdown",
   "id": "78f133c9-bfa0-4d38-9cf0-f47cba4b9589",
   "metadata": {},
   "source": [
    "# NBA Player Points"
   ]
  },
  {
   "cell_type": "markdown",
   "id": "60e8f4b3-6420-495c-b57b-835d9b8bf551",
   "metadata": {},
   "source": [
    "### Group Members:\n",
    "Matthew Gillies - 59188508 (Group Leader)\n",
    "...\n",
    "...\n",
    "\n",
    "\n",
    "\n",
    "### Group Contributions:\n",
    "Matthew: R code appendix, \n",
    "...\n",
    "\n",
    "...\n",
    "\n"
   ]
  },
  {
   "cell_type": "markdown",
   "id": "6ba6a750-35f0-4a2b-83cb-60ea47596643",
   "metadata": {},
   "source": [
    "## Objective: \n",
    "We are looking to analyze NBA points data for players who have both played in the regular season and playoffs in order to determine the average points per game for the regular season and playoffs along with whether the average player performs better in the playoffs. \n",
    "\n",
    "## Background: \n",
    "In the NBA the regular season and playoffs are very different in terms of player usage and rotations. We often see star players \"coast\" through the regular season in order to save energy and maintain health for the playoffs. Some players raise their level of play during the playoffs, while others become overwhelmed with pressure and fail to produce to their usual standards. Our goal is to determine whether the average NBA player performs better in the playoffs than the regular season, along with standalone estimates for both the regular season and playoffs. There are many underlying factors to this analysis, including rotations becoming shorter in the playoffs, allowing star players more opportunities to score and average role players less. The playoffs are also an overall higher level of competition, as only teams who were successful enough in the regular season compete. Through this analysis we hope to further understand the relationship and nuances between regular season and playoff scoring. \n",
    "\n",
    "## Importance: \n",
    "...\n",
    "\n"
   ]
  },
  {
   "cell_type": "markdown",
   "id": "a2d75774-8a28-45cb-bbce-0aee3b0b8d95",
   "metadata": {},
   "source": [
    "## Sampling: \n",
    "..."
   ]
  },
  {
   "cell_type": "markdown",
   "id": "3f3db693-ae60-4e3b-9f4c-f8e54f586bc8",
   "metadata": {},
   "source": [
    "## Data Analysis:\n"
   ]
  },
  {
   "cell_type": "markdown",
   "id": "f3fe73bc-654a-45af-b102-eec849456a40",
   "metadata": {},
   "source": [
    "## Conclusion: \n",
    "...\n"
   ]
  },
  {
   "cell_type": "markdown",
   "id": "519b0c14-11f6-4144-96c7-21795fafc04e",
   "metadata": {},
   "source": [
    "## Appendix"
   ]
  },
  {
   "cell_type": "markdown",
   "id": "b2320b9e-1ee5-40a2-a75e-b7b951fc7f4f",
   "metadata": {},
   "source": [
    "#### R code:"
   ]
  },
  {
   "cell_type": "code",
   "execution_count": null,
   "id": "c61e16e6-c521-4e1f-8309-af60bbeecf88",
   "metadata": {},
   "outputs": [],
   "source": [
    "library(tidyverse)\n",
    "set.seed(123)\n",
    "playoff_data <- read.csv(\"202223nbaplayoffs.csv\", header = T)\n",
    "reg_data <- read.csv(\"202223regseasonnodupes.csv\", header = T)\n",
    "\n",
    "## SRS sampling\n",
    "common_sample_indices <- sample(1:nrow(reg_data), 50)\n",
    "\n",
    "sample_size <- 50\n",
    "population_size <- 200\n",
    "\n",
    "# SRS for Regular season\n",
    "srs_sample_reg <- reg_data[common_sample_indices, ]\n",
    "srs_est_reg <- mean(srs_sample_reg$PTS)\n",
    "fpc <- 1 - sample_size / population_size\n",
    "se_reg <- sqrt(var(srs_sample_reg$PTS)/sample_size * fpc)\n",
    "quantile <- qnorm(0.95)\n",
    "CI_reg <- c(srs_est_reg - quantile*se_reg, srs_est_reg + quantile*se_reg)\n",
    "\n",
    "\n",
    "# SRS for Playoffs\n",
    "srs_sample_playoffs <- playoff_data[common_sample_indices, ]\n",
    "srs_est_playoffs <- mean(srs_sample_playoffs$PTS)\n",
    "se_playoffs <- sqrt(var(srs_sample_playoffs$PTS)/sample_size * fpc)\n",
    "CI_playoffs <- c(srs_est_playoffs - quantile*se_playoffs, srs_est_playoffs +\n",
    "                   quantile*se_playoffs)\n",
    "\n",
    "## Stratified Sampling for regular season:\n",
    "stratum_sizes <- reg_data %>%\n",
    "  group_by(Pos) %>%\n",
    "  summarize(StratumSize = n())\n",
    "\n",
    "within_strata_vars <- reg_data %>%\n",
    "  group_by(Pos) %>%\n",
    "  summarize(SD = sd(PTS))\n",
    "\n",
    "## We see that Within-Strata Variance are varying so we use optimal allocation\n",
    "## Here we assume the cost of sampling from each strata is the same\n",
    "\n",
    "se_strata <- stratum_sizes$StratumSize * within_strata_vars$SD\n",
    "samp_sizes_strat <- round(se_strata/sum(se_strata) * sample_size)\n",
    "\n",
    "samp_sizes_strat[3] = 9\n",
    "\n",
    "## We round the point guard strata size down to ensure the total sample size \n",
    "## is 50, although it should technically round up. \n",
    "\n",
    "\n",
    "final_samples <- data.frame()  # Initialize an empty dataframe to store the final samples\n",
    "\n",
    "for (i in 1:5) {\n",
    "  samp_size <- samp_sizes_strat[i]\n",
    "  current_stratum <- unique(reg_data$Pos)[i]\n",
    "  \n",
    "  stratum_samples <- reg_data %>%\n",
    "    group_by(Pos) %>%\n",
    "    filter(Pos == current_stratum) %>%\n",
    "    sample_n(samp_size)\n",
    "  \n",
    "  final_samples <- rbind(final_samples, stratum_samples)\n",
    "}\n",
    "\n",
    "## Check to make sure sampling is done correctly: \n",
    "check_stratsize <- final_samples %>%\n",
    "  group_by(Pos) %>%\n",
    "  summarize(Size = n())\n",
    "\n",
    "\n",
    "## Estimating Stratified for Regular Season: \n",
    "N <- nrow(reg_data)\n",
    "Nh_data <- reg_data %>% group_by(Pos) %>% summarize(n = n())\n",
    "Nh <- Nh_data$n\n",
    "pos_avg <- final_samples %>% group_by(Pos) %>% summarize(mean = mean(PTS))\n",
    "pos_means <- pos_avg$mean\n",
    "\n",
    "strat_est_reg <- sum((Nh/N)*pos_means)\n",
    "\n",
    "pos_vars_dat <- final_samples %>% group_by(Pos) %>% summarize(Var = var(PTS))\n",
    "pos_vars <- pos_vars_dat$Var\n",
    "\n",
    "se_strat_reg <- sqrt(sum((Nh/N)^2 * (1-(samp_sizes_strat/Nh)) * \n",
    "                           (pos_vars/samp_sizes_strat)))\n",
    "CI_strat_reg <- c(strat_est_reg - quantile*se_strat_reg, \n",
    "                  strat_est_reg + quantile*se_strat_reg)\n",
    "\n",
    "## Getting stratified sample for Playoffs: \n",
    "strat_players <- final_samples$Player\n",
    "playoffs_strat <- playoff_data %>% filter(Player %in% strat_players)\n",
    "\n",
    "## Estimating stratified for playoffs: \n",
    "N <- nrow(playoff_data)\n",
    "pos_avg_p <- playoffs_strat %>% group_by(Pos) %>% summarize(mean = mean(PTS))\n",
    "pos_means_p <- pos_avg_p$mean\n",
    "\n",
    "strat_est_playoff <- sum((Nh/N)*pos_means_p)\n",
    "\n",
    "pos_vars_dat_p <- playoffs_strat %>% group_by(Pos) %>% summarize(Var = var(PTS))\n",
    "pos_vars_p <- pos_vars_dat_p$Var\n",
    "\n",
    "se_strat_p <- sqrt(sum((Nh/N)^2 * (1-(samp_sizes_strat/Nh)) * \n",
    "                           (pos_vars_p/samp_sizes_strat)))\n",
    "CI_strat_reg <- c(strat_est_playoff - quantile*se_strat_p, \n",
    "                  strat_est_playoff + quantile*se_strat_p)\n",
    "\n",
    "## Proportion Estimate for players who score more in playoffs than regular \n",
    "## season:\n",
    "\n",
    "## SRS\n",
    "merged_data <- merge(srs_sample_reg, srs_sample_playoffs, by = \"Player\", \n",
    "                     suffixes = c(\"_reg\", \"_playoff\"))\n",
    "prop_playoff_srs <- mean(merged_data$PTS_playoff > merged_data$PTS_reg)\n",
    "se_prop_srs <- sqrt(fpc*((prop_playoff_srs* (1-prop_playoff_srs))/sample_size))\n",
    "CI_prop_srs <- c(prop_playoff_srs - quantile*se_prop_srs, \n",
    "                 prop_playoff_srs + quantile*se_prop_srs)\n",
    "\n",
    "## Stratified: \n",
    "merged_strat <- merge(final_samples, playoffs_strat, by = \"Player\", \n",
    "                      suffixes = c(\"_reg\", \"_playoff\"))\n",
    "merged_strat$Playoff_Higher <- ifelse(merged_strat$PTS_playoff > \n",
    "                                        merged_strat$PTS_reg, 1, 0)\n",
    "\n",
    "props <- merged_strat %>% group_by(Pos_reg) %>%\n",
    "  summarize(Prop = mean(Playoff_Higher))\n",
    "strat_props <- props$Prop\n",
    "strat_est_prop <- sum((Nh/N)*strat_props)\n",
    "\n",
    "vars_prop_dat <- merged_strat %>% group_by(Pos_reg) %>%\n",
    "  summarize(Var = var(Playoff_Higher))\n",
    "vars_prop <- vars_prop_dat$Var\n",
    "\n",
    "se_prop_strat <- sqrt(sum((Nh/N)^2 * (1-(samp_sizes_strat/Nh)) * \n",
    "                            (vars_prop/samp_sizes_strat)))\n",
    "CI_prop_strat <- c(strat_est_prop - quantile*se_prop_strat, \n",
    "                   strat_est_prop + quantile*se_prop_strat)"
   ]
  },
  {
   "cell_type": "markdown",
   "id": "64922029-aef3-4d32-bc3f-949746e73b20",
   "metadata": {},
   "source": [
    "#### Regular Season Data"
   ]
  },
  {
   "cell_type": "code",
   "execution_count": null,
   "id": "833ebdd5-5c81-4811-b6ce-2c01ca99d9cb",
   "metadata": {},
   "outputs": [],
   "source": [
    "reg_data <- read.csv(\"202223regseasonnodupes.csv\", header = T)\n",
    "reg_data"
   ]
  },
  {
   "cell_type": "markdown",
   "id": "088b79cd-911a-4336-8ac1-190f43bee336",
   "metadata": {},
   "source": [
    "#### Playoff Data"
   ]
  },
  {
   "cell_type": "code",
   "execution_count": null,
   "id": "c91fb953-1ee2-4c56-945e-aebf65cdf83d",
   "metadata": {},
   "outputs": [],
   "source": [
    "playoff_data <- read.csv(\"202223nbaplayoffs.csv\", header = T)\n",
    "playoff_data"
   ]
  }
 ],
 "metadata": {
  "kernelspec": {
   "display_name": "R",
   "language": "R",
   "name": "ir"
  },
  "language_info": {
   "name": ""
  }
 },
 "nbformat": 4,
 "nbformat_minor": 5
}
